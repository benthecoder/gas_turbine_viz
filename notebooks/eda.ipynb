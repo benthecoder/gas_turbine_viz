{
 "cells": [
  {
   "cell_type": "code",
   "execution_count": null,
   "metadata": {},
   "outputs": [],
   "source": [
    "import pandas as pd\n",
    "\n",
    "all_df = pd.read_csv(\"../data/all_data.csv\")\n",
    "site_df = pd.read_csv(\"../data/åsite_metadata.csv\")\n",
    "\n",
    "temp_df = all_df.merge(site_df, on=[\"CUSTOMER_NAME\", \"PLANT_NAME\"])\n",
    "\n",
    "all_df[\"THRM_EFF\"] = temp_df[\"POWER\"] / (temp_df[\"FUEL_FLOW\"] * temp_df[\"FUEL_LHV\"])"
   ]
  },
  {
   "cell_type": "code",
   "execution_count": null,
   "metadata": {},
   "outputs": [],
   "source": [
    "# convert continent code to full continent name in site_df.continent\n",
    "def convert_continent(continent_code):\n",
    "    continent_dict = {\n",
    "        \"NA\": \"North America\",\n",
    "        \"SA\": \"South America\",\n",
    "        \"AS\": \"Asia\",\n",
    "        \"AF\": \"Africa\",\n",
    "        \"OC\": \"Oceania\",\n",
    "        \"EU\": \"Europe\",\n",
    "        \"Antarctica\" : \"Antarctica\"\n",
    "    }\n",
    "    return continent_dict[continent_code]\n",
    "\n",
    "site_df[\"CONTINENT\"] = site_df[\"CONTINENT\"].apply(convert_continent)"
   ]
  },
  {
   "cell_type": "code",
   "execution_count": null,
   "metadata": {},
   "outputs": [],
   "source": [
    "import plotly.express as px\n",
    "px.set_mapbox_access_token(\"pk.eyJ1IjoiYmVudGhlY29kZXIiLCJhIjoiY2wwNGNyb2ZzMGU4NjNjbnlzMXkxcmRnZiJ9.Jh6_T1hrlSoIjAD0UQG4HA\")\n",
    "fig = px.scatter_mapbox(site_df, lat=\"LATITUDE\", lon=\"LONGITUDE\", hover_name=\"CUSTOMER_NAME\", hover_data=[\"CUSTOMER_NAME\", \"PLANT_NAME\", \"LATITUDE\", \"LONGITUDE\"], height=1000, zoom=1)\n",
    "\n",
    "fig.update_layout(\n",
    "    title=\"Gas Turbine Locations\",\n",
    "    mapbox_style=\"open-street-map\",\n",
    "    margin={\"r\": 0, \"t\": 50, \"l\": 0, \"b\": 0},\n",
    ")\n",
    "\n",
    "fig.show()"
   ]
  },
  {
   "cell_type": "code",
   "execution_count": null,
   "metadata": {},
   "outputs": [],
   "source": [
    "# group by customer name and plant name in all_df and calculate averages of each column\n",
    "all_df.groupby([\"CUSTOMER_NAME\", \"PLANT_NAME\", \"ENGINE_ID\"]).mean().reset_index()\n",
    "all_df.groupby([\"CUSTOMER_NAME\", \"PLANT_NAME\", \"ENGINE_ID\"]).std().reset_index()"
   ]
  },
  {
   "cell_type": "code",
   "execution_count": null,
   "metadata": {},
   "outputs": [],
   "source": [
    "all_df.isnull().sum()"
   ]
  },
  {
   "cell_type": "code",
   "execution_count": null,
   "metadata": {},
   "outputs": [],
   "source": [
    "# filter all_df by plant_name as SPIRITUAL-POLECAT\n",
    "\n",
    "all_df = all_df[all_df[\"PLANT_NAME\"] == \"SPIRITUAL-POLECAT\"]\n",
    "\n",
    "# plot heatmap of power overtime for each ENGINE_ID\n",
    "import plotly.express as px\n",
    "import plotly.graph_objects as go\n",
    "\n",
    "fig = px.line(all_df, x=\"datetime\", y=\"POWER\", color=\"ENGINE_ID\", title=\"Power over time for each ENGINE_ID\")\n",
    "\n",
    "fig.show()"
   ]
  },
  {
   "cell_type": "code",
   "execution_count": null,
   "metadata": {},
   "outputs": [],
   "source": [
    "all_df.groupby([\"PLANT_NAME\"])"
   ]
  },
  {
   "cell_type": "code",
   "execution_count": null,
   "metadata": {},
   "outputs": [],
   "source": [
    "# group by plant and sum power and average thrm_eff for each plant\n",
    "\n",
    "power_df = all_df.groupby([\"PLANT_NAME\"])[[\"POWER\", \"THRM_EFF\"]].agg({\"POWER\" : sum, \"THRM_EFF\" : \"mean\"}).reset_index()\n",
    "\n",
    "# plot side by side bar chart of power and thrm_eff for each plant\n",
    "power_df.sort_values(by=[\"THRM_EFF\"], ascending=True, inplace=True)"
   ]
  },
  {
   "cell_type": "code",
   "execution_count": null,
   "metadata": {},
   "outputs": [],
   "source": [
    "import plotly.graph_objects as go\n",
    "from plotly.subplots import make_subplots\n",
    "\n",
    "\n",
    "fig = make_subplots(rows=1, cols=2, specs=[[{}, {}]], shared_xaxes=False,\n",
    "                    shared_yaxes=True, horizontal_spacing=0)\n",
    "\n",
    "fig.append_trace(go.Bar(x=power_df['POWER'],\n",
    "                     y=power_df['PLANT_NAME'], \n",
    "                     text=power_df[\"POWER\"].map('{:,.0f}'.format), #Display the numbers with thousands separators in hover-over tooltip \n",
    "                     textposition='inside',\n",
    "                     orientation='h', \n",
    "                     width=0.7, \n",
    "                     showlegend=False, \n",
    "                     marker_color='#4472c4'), \n",
    "                     1, 1) # 1,1 represents row 1 column 1 in the plot grid\n",
    "\n",
    "fig.append_trace(go.Bar(x=power_df['THRM_EFF'],\n",
    "                     y=power_df['PLANT_NAME'], \n",
    "                     text=power_df[\"THRM_EFF\"].map('{:,.0f}'.format),\n",
    "                     textposition='inside',\n",
    "                     orientation='h', \n",
    "                     width=0.7, \n",
    "                     showlegend=False, \n",
    "                     marker_color='#ed7d31'), \n",
    "                     1, 2) # 1,2 represents row 1 column 2 in the plot grid\n",
    "\n",
    "\n",
    "fig.update_xaxes(showticklabels=False,title_text=\"Power Generation\", row=1, col=1, range=[730000000,0])\n",
    "fig.update_xaxes(showticklabels=False,title_text=\"Thermal Efficiency\", row=1, col=2)\n",
    "\n",
    "fig.update_layout(title_text=\"Power Generation\", \n",
    "                  width=800, \n",
    "                  height=700,\n",
    "                  title_x=0.9,\n",
    "                  xaxis1={'side': 'top'},\n",
    "                  xaxis2={'side': 'top'},)\n",
    "\n",
    "fig.show()\n"
   ]
  },
  {
   "cell_type": "code",
   "execution_count": null,
   "metadata": {},
   "outputs": [],
   "source": [
    "# plot power against thermal efficiency for each plant\n",
    "\n",
    "import plotly.express as px\n",
    "\n",
    "\n",
    "fig = px.scatter(all_df, x=\"POWER\", y=\"THRM_EFF\", color=\"PLANT_NAME\", hover_name=\"PLANT_NAME\", title=\"Power vs Thermal Efficiency for each plant\")\n",
    "fig.show()"
   ]
  }
 ],
 "metadata": {
  "kernelspec": {
   "display_name": "Python 3.8.12 ('streamlit')",
   "language": "python",
   "name": "python3"
  },
  "language_info": {
   "codemirror_mode": {
    "name": "ipython",
    "version": 3
   },
   "file_extension": ".py",
   "mimetype": "text/x-python",
   "name": "python",
   "nbconvert_exporter": "python",
   "pygments_lexer": "ipython3",
   "version": "3.8.12"
  },
  "orig_nbformat": 4,
  "vscode": {
   "interpreter": {
    "hash": "5f214dff87efc99681f0fd859d14f7d13c4bf653b569b0b118f764f4479fa960"
   }
  }
 },
 "nbformat": 4,
 "nbformat_minor": 2
}
