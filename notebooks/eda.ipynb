{
 "cells": [
  {
   "cell_type": "code",
   "execution_count": 12,
   "metadata": {},
   "outputs": [],
   "source": [
    "import pandas as pd\n",
    "\n",
    "all_df = pd.read_csv(\"../data/all_data.csv\")\n",
    "site_df = pd.read_csv(\"../data/site_metadata.csv\")"
   ]
  },
  {
   "cell_type": "code",
   "execution_count": 14,
   "metadata": {},
   "outputs": [],
   "source": [
    "temp_df = all_df.merge(site_df, on=[\"CUSTOMER_NAME\", \"PLANT_NAME\"])\n",
    "\n",
    "all_df[\"THRM_EFF\"] = temp_df[\"POWER\"] / (temp_df[\"FUEL_FLOW\"] * temp_df[\"FUEL_LHV\"])"
   ]
  },
  {
   "cell_type": "code",
   "execution_count": 15,
   "metadata": {},
   "outputs": [
    {
     "data": {
      "text/html": [
       "<div>\n",
       "<style scoped>\n",
       "    .dataframe tbody tr th:only-of-type {\n",
       "        vertical-align: middle;\n",
       "    }\n",
       "\n",
       "    .dataframe tbody tr th {\n",
       "        vertical-align: top;\n",
       "    }\n",
       "\n",
       "    .dataframe thead th {\n",
       "        text-align: right;\n",
       "    }\n",
       "</style>\n",
       "<table border=\"1\" class=\"dataframe\">\n",
       "  <thead>\n",
       "    <tr style=\"text-align: right;\">\n",
       "      <th></th>\n",
       "      <th>location_id</th>\n",
       "      <th>datetime</th>\n",
       "      <th>CMP_SPEED</th>\n",
       "      <th>POWER</th>\n",
       "      <th>FUEL_FLOW</th>\n",
       "      <th>CO2</th>\n",
       "      <th>CUSTOMER_NAME</th>\n",
       "      <th>PLANT_NAME</th>\n",
       "      <th>ENGINE_ID</th>\n",
       "      <th>THRM_EFF</th>\n",
       "    </tr>\n",
       "  </thead>\n",
       "  <tbody>\n",
       "    <tr>\n",
       "      <th>0</th>\n",
       "      <td>1</td>\n",
       "      <td>2021-01-01 00:00:00</td>\n",
       "      <td>7864.836031</td>\n",
       "      <td>9276.641203</td>\n",
       "      <td>1.420379</td>\n",
       "      <td>3.880132</td>\n",
       "      <td>SPIFFY</td>\n",
       "      <td>SPIRITUAL-POLECAT</td>\n",
       "      <td>ENGINE_1</td>\n",
       "      <td>0.303571</td>\n",
       "    </tr>\n",
       "    <tr>\n",
       "      <th>1</th>\n",
       "      <td>1</td>\n",
       "      <td>2021-01-01 01:00:00</td>\n",
       "      <td>7872.746093</td>\n",
       "      <td>9256.520108</td>\n",
       "      <td>1.416093</td>\n",
       "      <td>3.868423</td>\n",
       "      <td>SPIFFY</td>\n",
       "      <td>SPIRITUAL-POLECAT</td>\n",
       "      <td>ENGINE_1</td>\n",
       "      <td>0.303830</td>\n",
       "    </tr>\n",
       "    <tr>\n",
       "      <th>2</th>\n",
       "      <td>1</td>\n",
       "      <td>2021-01-01 02:00:00</td>\n",
       "      <td>7860.669743</td>\n",
       "      <td>9251.712294</td>\n",
       "      <td>1.414444</td>\n",
       "      <td>3.863916</td>\n",
       "      <td>SPIFFY</td>\n",
       "      <td>SPIRITUAL-POLECAT</td>\n",
       "      <td>ENGINE_1</td>\n",
       "      <td>0.304026</td>\n",
       "    </tr>\n",
       "    <tr>\n",
       "      <th>3</th>\n",
       "      <td>1</td>\n",
       "      <td>2021-01-01 03:00:00</td>\n",
       "      <td>7866.736116</td>\n",
       "      <td>9288.037729</td>\n",
       "      <td>1.418746</td>\n",
       "      <td>3.875670</td>\n",
       "      <td>SPIFFY</td>\n",
       "      <td>SPIRITUAL-POLECAT</td>\n",
       "      <td>ENGINE_1</td>\n",
       "      <td>0.304294</td>\n",
       "    </tr>\n",
       "    <tr>\n",
       "      <th>4</th>\n",
       "      <td>1</td>\n",
       "      <td>2021-01-01 04:00:00</td>\n",
       "      <td>7864.576346</td>\n",
       "      <td>9272.706150</td>\n",
       "      <td>1.414983</td>\n",
       "      <td>3.865390</td>\n",
       "      <td>SPIFFY</td>\n",
       "      <td>SPIRITUAL-POLECAT</td>\n",
       "      <td>ENGINE_1</td>\n",
       "      <td>0.304600</td>\n",
       "    </tr>\n",
       "    <tr>\n",
       "      <th>...</th>\n",
       "      <td>...</td>\n",
       "      <td>...</td>\n",
       "      <td>...</td>\n",
       "      <td>...</td>\n",
       "      <td>...</td>\n",
       "      <td>...</td>\n",
       "      <td>...</td>\n",
       "      <td>...</td>\n",
       "      <td>...</td>\n",
       "      <td>...</td>\n",
       "    </tr>\n",
       "    <tr>\n",
       "      <th>1866088</th>\n",
       "      <td>213</td>\n",
       "      <td>2021-12-31 20:00:00</td>\n",
       "      <td>7823.869934</td>\n",
       "      <td>10369.894938</td>\n",
       "      <td>1.634105</td>\n",
       "      <td>3.928073</td>\n",
       "      <td>MERCIFUL</td>\n",
       "      <td>PREMIUM-MOTH</td>\n",
       "      <td>ENGINE_4</td>\n",
       "      <td>0.294890</td>\n",
       "    </tr>\n",
       "    <tr>\n",
       "      <th>1866089</th>\n",
       "      <td>213</td>\n",
       "      <td>2021-12-31 21:00:00</td>\n",
       "      <td>7817.320593</td>\n",
       "      <td>10353.512247</td>\n",
       "      <td>1.632244</td>\n",
       "      <td>3.923601</td>\n",
       "      <td>MERCIFUL</td>\n",
       "      <td>PREMIUM-MOTH</td>\n",
       "      <td>ENGINE_4</td>\n",
       "      <td>0.294760</td>\n",
       "    </tr>\n",
       "    <tr>\n",
       "      <th>1866090</th>\n",
       "      <td>213</td>\n",
       "      <td>2021-12-31 22:00:00</td>\n",
       "      <td>7818.344861</td>\n",
       "      <td>10352.367427</td>\n",
       "      <td>1.629405</td>\n",
       "      <td>3.916775</td>\n",
       "      <td>MERCIFUL</td>\n",
       "      <td>PREMIUM-MOTH</td>\n",
       "      <td>ENGINE_4</td>\n",
       "      <td>0.295241</td>\n",
       "    </tr>\n",
       "    <tr>\n",
       "      <th>1866091</th>\n",
       "      <td>213</td>\n",
       "      <td>2021-12-31 23:00:00</td>\n",
       "      <td>7814.145063</td>\n",
       "      <td>10331.304330</td>\n",
       "      <td>1.628703</td>\n",
       "      <td>3.915089</td>\n",
       "      <td>MERCIFUL</td>\n",
       "      <td>PREMIUM-MOTH</td>\n",
       "      <td>ENGINE_4</td>\n",
       "      <td>0.294767</td>\n",
       "    </tr>\n",
       "    <tr>\n",
       "      <th>1866092</th>\n",
       "      <td>213</td>\n",
       "      <td>2022-01-01 00:00:00</td>\n",
       "      <td>7816.182387</td>\n",
       "      <td>10369.344109</td>\n",
       "      <td>1.633223</td>\n",
       "      <td>3.925953</td>\n",
       "      <td>MERCIFUL</td>\n",
       "      <td>PREMIUM-MOTH</td>\n",
       "      <td>ENGINE_4</td>\n",
       "      <td>0.295034</td>\n",
       "    </tr>\n",
       "  </tbody>\n",
       "</table>\n",
       "<p>1866093 rows × 10 columns</p>\n",
       "</div>"
      ],
      "text/plain": [
       "         location_id             datetime    CMP_SPEED         POWER  \\\n",
       "0                  1  2021-01-01 00:00:00  7864.836031   9276.641203   \n",
       "1                  1  2021-01-01 01:00:00  7872.746093   9256.520108   \n",
       "2                  1  2021-01-01 02:00:00  7860.669743   9251.712294   \n",
       "3                  1  2021-01-01 03:00:00  7866.736116   9288.037729   \n",
       "4                  1  2021-01-01 04:00:00  7864.576346   9272.706150   \n",
       "...              ...                  ...          ...           ...   \n",
       "1866088          213  2021-12-31 20:00:00  7823.869934  10369.894938   \n",
       "1866089          213  2021-12-31 21:00:00  7817.320593  10353.512247   \n",
       "1866090          213  2021-12-31 22:00:00  7818.344861  10352.367427   \n",
       "1866091          213  2021-12-31 23:00:00  7814.145063  10331.304330   \n",
       "1866092          213  2022-01-01 00:00:00  7816.182387  10369.344109   \n",
       "\n",
       "         FUEL_FLOW       CO2 CUSTOMER_NAME         PLANT_NAME ENGINE_ID  \\\n",
       "0         1.420379  3.880132        SPIFFY  SPIRITUAL-POLECAT  ENGINE_1   \n",
       "1         1.416093  3.868423        SPIFFY  SPIRITUAL-POLECAT  ENGINE_1   \n",
       "2         1.414444  3.863916        SPIFFY  SPIRITUAL-POLECAT  ENGINE_1   \n",
       "3         1.418746  3.875670        SPIFFY  SPIRITUAL-POLECAT  ENGINE_1   \n",
       "4         1.414983  3.865390        SPIFFY  SPIRITUAL-POLECAT  ENGINE_1   \n",
       "...            ...       ...           ...                ...       ...   \n",
       "1866088   1.634105  3.928073      MERCIFUL       PREMIUM-MOTH  ENGINE_4   \n",
       "1866089   1.632244  3.923601      MERCIFUL       PREMIUM-MOTH  ENGINE_4   \n",
       "1866090   1.629405  3.916775      MERCIFUL       PREMIUM-MOTH  ENGINE_4   \n",
       "1866091   1.628703  3.915089      MERCIFUL       PREMIUM-MOTH  ENGINE_4   \n",
       "1866092   1.633223  3.925953      MERCIFUL       PREMIUM-MOTH  ENGINE_4   \n",
       "\n",
       "         THRM_EFF  \n",
       "0        0.303571  \n",
       "1        0.303830  \n",
       "2        0.304026  \n",
       "3        0.304294  \n",
       "4        0.304600  \n",
       "...           ...  \n",
       "1866088  0.294890  \n",
       "1866089  0.294760  \n",
       "1866090  0.295241  \n",
       "1866091  0.294767  \n",
       "1866092  0.295034  \n",
       "\n",
       "[1866093 rows x 10 columns]"
      ]
     },
     "execution_count": 15,
     "metadata": {},
     "output_type": "execute_result"
    }
   ],
   "source": [
    "all_df"
   ]
  },
  {
   "cell_type": "code",
   "execution_count": 4,
   "metadata": {},
   "outputs": [
    {
     "data": {
      "text/html": [
       "<div>\n",
       "<style scoped>\n",
       "    .dataframe tbody tr th:only-of-type {\n",
       "        vertical-align: middle;\n",
       "    }\n",
       "\n",
       "    .dataframe tbody tr th {\n",
       "        vertical-align: top;\n",
       "    }\n",
       "\n",
       "    .dataframe thead th {\n",
       "        text-align: right;\n",
       "    }\n",
       "</style>\n",
       "<table border=\"1\" class=\"dataframe\">\n",
       "  <thead>\n",
       "    <tr style=\"text-align: right;\">\n",
       "      <th></th>\n",
       "      <th>CUSTOMER_NAME</th>\n",
       "      <th>PLANT_NAME</th>\n",
       "      <th>LATITUDE</th>\n",
       "      <th>LONGITUDE</th>\n",
       "      <th>ELEVATION</th>\n",
       "      <th>FUEL_N2_MOL_PCT</th>\n",
       "      <th>FUEL_MW</th>\n",
       "      <th>FUEL_LHV</th>\n",
       "      <th>CO2_FUEL_RATIO</th>\n",
       "    </tr>\n",
       "  </thead>\n",
       "  <tbody>\n",
       "    <tr>\n",
       "      <th>0</th>\n",
       "      <td>SPIFFY</td>\n",
       "      <td>SPIRITUAL-POLECAT</td>\n",
       "      <td>61.170356</td>\n",
       "      <td>42.874767</td>\n",
       "      <td>112.000000</td>\n",
       "      <td>4.445063</td>\n",
       "      <td>16.572225</td>\n",
       "      <td>21514.222365</td>\n",
       "      <td>2.621803</td>\n",
       "    </tr>\n",
       "    <tr>\n",
       "      <th>1</th>\n",
       "      <td>NONCHALANT</td>\n",
       "      <td>NIFTY-ROOK</td>\n",
       "      <td>37.554515</td>\n",
       "      <td>49.908217</td>\n",
       "      <td>-29.000000</td>\n",
       "      <td>1.053145</td>\n",
       "      <td>16.166097</td>\n",
       "      <td>21526.470829</td>\n",
       "      <td>2.714870</td>\n",
       "    </tr>\n",
       "    <tr>\n",
       "      <th>2</th>\n",
       "      <td>NONCHALANT</td>\n",
       "      <td>PREHISTORIC-PETREL</td>\n",
       "      <td>29.190866</td>\n",
       "      <td>60.491702</td>\n",
       "      <td>1552.426025</td>\n",
       "      <td>10.298848</td>\n",
       "      <td>17.273122</td>\n",
       "      <td>21494.438672</td>\n",
       "      <td>2.461189</td>\n",
       "    </tr>\n",
       "    <tr>\n",
       "      <th>3</th>\n",
       "      <td>NONCHALANT</td>\n",
       "      <td>THERAPEUTIC-LIONFISH</td>\n",
       "      <td>13.253365</td>\n",
       "      <td>76.411056</td>\n",
       "      <td>867.591553</td>\n",
       "      <td>13.188814</td>\n",
       "      <td>17.619149</td>\n",
       "      <td>21485.251979</td>\n",
       "      <td>2.381895</td>\n",
       "    </tr>\n",
       "    <tr>\n",
       "      <th>4</th>\n",
       "      <td>SOFT</td>\n",
       "      <td>ABORIGINAL-PICULET</td>\n",
       "      <td>-68.632002</td>\n",
       "      <td>66.155301</td>\n",
       "      <td>1253.152832</td>\n",
       "      <td>7.581916</td>\n",
       "      <td>16.947813</td>\n",
       "      <td>21503.417436</td>\n",
       "      <td>2.535736</td>\n",
       "    </tr>\n",
       "  </tbody>\n",
       "</table>\n",
       "</div>"
      ],
      "text/plain": [
       "  CUSTOMER_NAME            PLANT_NAME   LATITUDE  LONGITUDE    ELEVATION  \\\n",
       "0        SPIFFY     SPIRITUAL-POLECAT  61.170356  42.874767   112.000000   \n",
       "1    NONCHALANT            NIFTY-ROOK  37.554515  49.908217   -29.000000   \n",
       "2    NONCHALANT    PREHISTORIC-PETREL  29.190866  60.491702  1552.426025   \n",
       "3    NONCHALANT  THERAPEUTIC-LIONFISH  13.253365  76.411056   867.591553   \n",
       "4          SOFT    ABORIGINAL-PICULET -68.632002  66.155301  1253.152832   \n",
       "\n",
       "   FUEL_N2_MOL_PCT    FUEL_MW      FUEL_LHV  CO2_FUEL_RATIO  \n",
       "0         4.445063  16.572225  21514.222365        2.621803  \n",
       "1         1.053145  16.166097  21526.470829        2.714870  \n",
       "2        10.298848  17.273122  21494.438672        2.461189  \n",
       "3        13.188814  17.619149  21485.251979        2.381895  \n",
       "4         7.581916  16.947813  21503.417436        2.535736  "
      ]
     },
     "execution_count": 4,
     "metadata": {},
     "output_type": "execute_result"
    }
   ],
   "source": [
    "all_df.head()\n",
    "site_df.head()"
   ]
  },
  {
   "cell_type": "code",
   "execution_count": 8,
   "metadata": {},
   "outputs": [
    {
     "name": "stdout",
     "output_type": "stream",
     "text": [
      "<class 'pandas.core.frame.DataFrame'>\n",
      "RangeIndex: 45 entries, 0 to 44\n",
      "Data columns (total 9 columns):\n",
      " #   Column           Non-Null Count  Dtype  \n",
      "---  ------           --------------  -----  \n",
      " 0   CUSTOMER_NAME    45 non-null     object \n",
      " 1   PLANT_NAME       45 non-null     object \n",
      " 2   LATITUDE         45 non-null     float64\n",
      " 3   LONGITUDE        45 non-null     float64\n",
      " 4   ELEVATION        45 non-null     float64\n",
      " 5   FUEL_N2_MOL_PCT  45 non-null     float64\n",
      " 6   FUEL_MW          45 non-null     float64\n",
      " 7   FUEL_LHV         45 non-null     float64\n",
      " 8   CO2_FUEL_RATIO   45 non-null     float64\n",
      "dtypes: float64(7), object(2)\n",
      "memory usage: 3.3+ KB\n"
     ]
    }
   ],
   "source": [
    "site_df.info()"
   ]
  },
  {
   "cell_type": "code",
   "execution_count": 11,
   "metadata": {},
   "outputs": [
    {
     "data": {
      "application/vnd.plotly.v1+json": {
       "config": {
        "plotlyServerURL": "https://plot.ly"
       },
       "data": [
        {
         "customdata": [
          [
           "SPIFFY",
           "SPIRITUAL-POLECAT",
           61.17035565541676,
           42.87476722769898
          ],
          [
           "NONCHALANT",
           "NIFTY-ROOK",
           37.55451549722366,
           49.90821662683808
          ],
          [
           "NONCHALANT",
           "PREHISTORIC-PETREL",
           29.19086586941076,
           60.49170182347541
          ],
          [
           "NONCHALANT",
           "THERAPEUTIC-LIONFISH",
           13.253365033156228,
           76.41105642809447
          ],
          [
           "SOFT",
           "ABORIGINAL-PICULET",
           -68.63200204949257,
           66.15530078737422
          ],
          [
           "SOFT",
           "CARMINE-REINDEER",
           -37.9973686323425,
           178.14485465045027
          ],
          [
           "SOFT",
           "IDEALISTIC-DODO",
           -31.15103104341091,
           146.86922625712089
          ],
          [
           "BUSY",
           "ANCIENT-WASP",
           -67.13288518116451,
           140.03823722734865
          ],
          [
           "BUSY",
           "AQUAMARINE-KANGAROO",
           -0.2100842124175272,
           -76.83477789594805
          ],
          [
           "BUSY",
           "RADIANT-STURGEON",
           61.7731084242111,
           140.74313968484972
          ],
          [
           "BUSY",
           "CURIOUS-QUAIL",
           5.142945480545137,
           45.31517109005566
          ],
          [
           "BUSY",
           "SILKY-WEASEL",
           10.742002646789118,
           105.6524545701592
          ],
          [
           "BUSY",
           "INDIGO-TAPIR",
           -12.144845924877266,
           16.504710455389358
          ],
          [
           "FERVENT",
           "PERFECT-MACKEREL",
           -23.06755713329173,
           130.96213779946157
          ],
          [
           "FERVENT",
           "ADORABLE-PANTHER",
           52.39965395823988,
           131.11608769552691
          ],
          [
           "FERVENT",
           "CAREFUL-PHEASANT",
           -31.22495920164189,
           124.14992178092352
          ],
          [
           "GLEAMING",
           "PRECISE-POGONA",
           1.7710924612257912,
           42.93938511688626
          ],
          [
           "GLEAMING",
           "FIERY-BOBCAT",
           53.08878228952965,
           13.186017129815298
          ],
          [
           "GLEAMING",
           "BIPEDAL-UAKARI",
           61.67984274594789,
           33.31244648719306
          ],
          [
           "GLEAMING",
           "LUSH-CHIPMUNK",
           -2.893581407222001,
           -63.05463813052691
          ],
          [
           "GLEAMING",
           "HYPERSONIC-BULLDOG",
           51.34683912481428,
           20.095591780253983
          ],
          [
           "IDEALISTIC",
           "TUSCAN-CAPUCHIN",
           60.06873412810111,
           -101.87591676637416
          ],
          [
           "IDEALISTIC",
           "MUSTARD-PANDA",
           58.091531493142725,
           -71.7393748611775
          ],
          [
           "IDEALISTIC",
           "NIFTY-MULE",
           29.13324096707197,
           116.98763740843128
          ],
          [
           "DELIGHTFUL",
           "TOURMALINE-MOUSE",
           -7.716990930235916,
           143.35684774091447
          ],
          [
           "DELIGHTFUL",
           "ANNOYING-SPONGE",
           48.04507668845892,
           -0.0002588989562468
          ],
          [
           "DELIGHTFUL",
           "ROSE-KINGFISHER",
           55.17001926886098,
           -122.75011369152456
          ],
          [
           "DELIGHTFUL",
           "BEAUTIFUL-HIPPO",
           -33.29629815086906,
           24.449636131675987
          ],
          [
           "TOUGH",
           "VORACIOUS-PARROT",
           21.650943371253703,
           41.110107464084535
          ],
          [
           "TANGIBLE",
           "STOIC-KOEL",
           61.91222629965188,
           51.87282967560313
          ],
          [
           "TANGIBLE",
           "COBALT-CATFISH",
           44.80646883905612,
           -112.39550301242788
          ],
          [
           "DRAMATIC",
           "CERULEAN-NAUTILUS",
           -36.84528347698573,
           -66.0697307258626
          ],
          [
           "DRAMATIC",
           "PRAGMATIC-MASTIFF",
           -30.204917231037527,
           121.71999608637697
          ],
          [
           "DRAMATIC",
           "RAPID-CARACARA",
           23.46934473380161,
           35.45780052300063
          ],
          [
           "DRAMATIC",
           "COBALT-MALKOHA",
           57.577210594305726,
           43.57886258584
          ],
          [
           "KIND",
           "SAGE-PRAWN",
           30.77194635580493,
           109.00631815650593
          ],
          [
           "JUDICIOUS",
           "ANGELIC-REINDEER",
           61.87576194841188,
           28.36597780456617
          ],
          [
           "JUDICIOUS",
           "INESCAPABLE-QUOKKA",
           -5.825077633982005,
           -79.54092741757468
          ],
          [
           "JUDICIOUS",
           "DIDACTIC-HORNET",
           47.88682243192673,
           92.72821955002844
          ],
          [
           "JUDICIOUS",
           "SINGING-HONEYBEE",
           44.51034165958124,
           67.69215701925575
          ],
          [
           "JUDICIOUS",
           "LOUD-OCELOT",
           60.1146908897218,
           -124.25899698370448
          ],
          [
           "JUDICIOUS",
           "LOUTISH-PANDA",
           24.641432990648184,
           44.55161409811896
          ],
          [
           "SCEPTICAL",
           "ZIRCON-CAMEL",
           -19.98746053177358,
           -66.458677896226
          ],
          [
           "SCEPTICAL",
           "GIGANTIC-EARWIG",
           41.63113854444558,
           55.98142619557191
          ],
          [
           "MERCIFUL",
           "PREMIUM-MOTH",
           -26.17558122248137,
           16.115096309919323
          ]
         ],
         "hovertemplate": "<b>%{hovertext}</b><br><br>LATITUDE=%{customdata[2]}<br>LONGITUDE=%{customdata[3]}<br>CUSTOMER_NAME=%{customdata[0]}<br>PLANT_NAME=%{customdata[1]}<extra></extra>",
         "hovertext": [
          "SPIFFY",
          "NONCHALANT",
          "NONCHALANT",
          "NONCHALANT",
          "SOFT",
          "SOFT",
          "SOFT",
          "BUSY",
          "BUSY",
          "BUSY",
          "BUSY",
          "BUSY",
          "BUSY",
          "FERVENT",
          "FERVENT",
          "FERVENT",
          "GLEAMING",
          "GLEAMING",
          "GLEAMING",
          "GLEAMING",
          "GLEAMING",
          "IDEALISTIC",
          "IDEALISTIC",
          "IDEALISTIC",
          "DELIGHTFUL",
          "DELIGHTFUL",
          "DELIGHTFUL",
          "DELIGHTFUL",
          "TOUGH",
          "TANGIBLE",
          "TANGIBLE",
          "DRAMATIC",
          "DRAMATIC",
          "DRAMATIC",
          "DRAMATIC",
          "KIND",
          "JUDICIOUS",
          "JUDICIOUS",
          "JUDICIOUS",
          "JUDICIOUS",
          "JUDICIOUS",
          "JUDICIOUS",
          "SCEPTICAL",
          "SCEPTICAL",
          "MERCIFUL"
         ],
         "lat": [
          61.17035565541676,
          37.55451549722366,
          29.19086586941076,
          13.253365033156228,
          -68.63200204949257,
          -37.9973686323425,
          -31.15103104341091,
          -67.13288518116451,
          -0.2100842124175272,
          61.7731084242111,
          5.142945480545137,
          10.742002646789118,
          -12.144845924877266,
          -23.06755713329173,
          52.39965395823988,
          -31.22495920164189,
          1.7710924612257912,
          53.08878228952965,
          61.67984274594789,
          -2.893581407222001,
          51.34683912481428,
          60.06873412810111,
          58.091531493142725,
          29.13324096707197,
          -7.716990930235916,
          48.04507668845892,
          55.17001926886098,
          -33.29629815086906,
          21.650943371253703,
          61.91222629965188,
          44.80646883905612,
          -36.84528347698573,
          -30.204917231037527,
          23.46934473380161,
          57.577210594305726,
          30.77194635580493,
          61.87576194841188,
          -5.825077633982005,
          47.88682243192673,
          44.51034165958124,
          60.1146908897218,
          24.641432990648184,
          -19.98746053177358,
          41.63113854444558,
          -26.17558122248137
         ],
         "legendgroup": "",
         "lon": [
          42.87476722769898,
          49.90821662683808,
          60.49170182347541,
          76.41105642809447,
          66.15530078737422,
          178.14485465045027,
          146.86922625712089,
          140.03823722734865,
          -76.83477789594805,
          140.74313968484972,
          45.31517109005566,
          105.6524545701592,
          16.504710455389358,
          130.96213779946157,
          131.11608769552691,
          124.14992178092352,
          42.93938511688626,
          13.186017129815298,
          33.31244648719306,
          -63.05463813052691,
          20.095591780253983,
          -101.87591676637416,
          -71.7393748611775,
          116.98763740843128,
          143.35684774091447,
          -0.0002588989562468,
          -122.75011369152456,
          24.449636131675987,
          41.110107464084535,
          51.87282967560313,
          -112.39550301242788,
          -66.0697307258626,
          121.71999608637697,
          35.45780052300063,
          43.57886258584,
          109.00631815650593,
          28.36597780456617,
          -79.54092741757468,
          92.72821955002844,
          67.69215701925575,
          -124.25899698370448,
          44.55161409811896,
          -66.458677896226,
          55.98142619557191,
          16.115096309919323
         ],
         "marker": {
          "color": "#636efa"
         },
         "mode": "markers",
         "name": "",
         "showlegend": false,
         "subplot": "mapbox",
         "type": "scattermapbox"
        }
       ],
       "layout": {
        "height": 1000,
        "legend": {
         "tracegroupgap": 0
        },
        "mapbox": {
         "accesstoken": "pk.eyJ1IjoiYmVudGhlY29kZXIiLCJhIjoiY2wwNGNyb2ZzMGU4NjNjbnlzMXkxcmRnZiJ9.Jh6_T1hrlSoIjAD0UQG4HA",
         "center": {
          "lat": 17.24365280950065,
          "lon": 37.17480077974458
         },
         "domain": {
          "x": [
           0,
           1
          ],
          "y": [
           0,
           1
          ]
         },
         "style": "open-street-map",
         "zoom": 1
        },
        "margin": {
         "b": 0,
         "l": 0,
         "r": 0,
         "t": 50
        },
        "template": {
         "data": {
          "bar": [
           {
            "error_x": {
             "color": "#2a3f5f"
            },
            "error_y": {
             "color": "#2a3f5f"
            },
            "marker": {
             "line": {
              "color": "#E5ECF6",
              "width": 0.5
             },
             "pattern": {
              "fillmode": "overlay",
              "size": 10,
              "solidity": 0.2
             }
            },
            "type": "bar"
           }
          ],
          "barpolar": [
           {
            "marker": {
             "line": {
              "color": "#E5ECF6",
              "width": 0.5
             },
             "pattern": {
              "fillmode": "overlay",
              "size": 10,
              "solidity": 0.2
             }
            },
            "type": "barpolar"
           }
          ],
          "carpet": [
           {
            "aaxis": {
             "endlinecolor": "#2a3f5f",
             "gridcolor": "white",
             "linecolor": "white",
             "minorgridcolor": "white",
             "startlinecolor": "#2a3f5f"
            },
            "baxis": {
             "endlinecolor": "#2a3f5f",
             "gridcolor": "white",
             "linecolor": "white",
             "minorgridcolor": "white",
             "startlinecolor": "#2a3f5f"
            },
            "type": "carpet"
           }
          ],
          "choropleth": [
           {
            "colorbar": {
             "outlinewidth": 0,
             "ticks": ""
            },
            "type": "choropleth"
           }
          ],
          "contour": [
           {
            "colorbar": {
             "outlinewidth": 0,
             "ticks": ""
            },
            "colorscale": [
             [
              0,
              "#0d0887"
             ],
             [
              0.1111111111111111,
              "#46039f"
             ],
             [
              0.2222222222222222,
              "#7201a8"
             ],
             [
              0.3333333333333333,
              "#9c179e"
             ],
             [
              0.4444444444444444,
              "#bd3786"
             ],
             [
              0.5555555555555556,
              "#d8576b"
             ],
             [
              0.6666666666666666,
              "#ed7953"
             ],
             [
              0.7777777777777778,
              "#fb9f3a"
             ],
             [
              0.8888888888888888,
              "#fdca26"
             ],
             [
              1,
              "#f0f921"
             ]
            ],
            "type": "contour"
           }
          ],
          "contourcarpet": [
           {
            "colorbar": {
             "outlinewidth": 0,
             "ticks": ""
            },
            "type": "contourcarpet"
           }
          ],
          "heatmap": [
           {
            "colorbar": {
             "outlinewidth": 0,
             "ticks": ""
            },
            "colorscale": [
             [
              0,
              "#0d0887"
             ],
             [
              0.1111111111111111,
              "#46039f"
             ],
             [
              0.2222222222222222,
              "#7201a8"
             ],
             [
              0.3333333333333333,
              "#9c179e"
             ],
             [
              0.4444444444444444,
              "#bd3786"
             ],
             [
              0.5555555555555556,
              "#d8576b"
             ],
             [
              0.6666666666666666,
              "#ed7953"
             ],
             [
              0.7777777777777778,
              "#fb9f3a"
             ],
             [
              0.8888888888888888,
              "#fdca26"
             ],
             [
              1,
              "#f0f921"
             ]
            ],
            "type": "heatmap"
           }
          ],
          "heatmapgl": [
           {
            "colorbar": {
             "outlinewidth": 0,
             "ticks": ""
            },
            "colorscale": [
             [
              0,
              "#0d0887"
             ],
             [
              0.1111111111111111,
              "#46039f"
             ],
             [
              0.2222222222222222,
              "#7201a8"
             ],
             [
              0.3333333333333333,
              "#9c179e"
             ],
             [
              0.4444444444444444,
              "#bd3786"
             ],
             [
              0.5555555555555556,
              "#d8576b"
             ],
             [
              0.6666666666666666,
              "#ed7953"
             ],
             [
              0.7777777777777778,
              "#fb9f3a"
             ],
             [
              0.8888888888888888,
              "#fdca26"
             ],
             [
              1,
              "#f0f921"
             ]
            ],
            "type": "heatmapgl"
           }
          ],
          "histogram": [
           {
            "marker": {
             "pattern": {
              "fillmode": "overlay",
              "size": 10,
              "solidity": 0.2
             }
            },
            "type": "histogram"
           }
          ],
          "histogram2d": [
           {
            "colorbar": {
             "outlinewidth": 0,
             "ticks": ""
            },
            "colorscale": [
             [
              0,
              "#0d0887"
             ],
             [
              0.1111111111111111,
              "#46039f"
             ],
             [
              0.2222222222222222,
              "#7201a8"
             ],
             [
              0.3333333333333333,
              "#9c179e"
             ],
             [
              0.4444444444444444,
              "#bd3786"
             ],
             [
              0.5555555555555556,
              "#d8576b"
             ],
             [
              0.6666666666666666,
              "#ed7953"
             ],
             [
              0.7777777777777778,
              "#fb9f3a"
             ],
             [
              0.8888888888888888,
              "#fdca26"
             ],
             [
              1,
              "#f0f921"
             ]
            ],
            "type": "histogram2d"
           }
          ],
          "histogram2dcontour": [
           {
            "colorbar": {
             "outlinewidth": 0,
             "ticks": ""
            },
            "colorscale": [
             [
              0,
              "#0d0887"
             ],
             [
              0.1111111111111111,
              "#46039f"
             ],
             [
              0.2222222222222222,
              "#7201a8"
             ],
             [
              0.3333333333333333,
              "#9c179e"
             ],
             [
              0.4444444444444444,
              "#bd3786"
             ],
             [
              0.5555555555555556,
              "#d8576b"
             ],
             [
              0.6666666666666666,
              "#ed7953"
             ],
             [
              0.7777777777777778,
              "#fb9f3a"
             ],
             [
              0.8888888888888888,
              "#fdca26"
             ],
             [
              1,
              "#f0f921"
             ]
            ],
            "type": "histogram2dcontour"
           }
          ],
          "mesh3d": [
           {
            "colorbar": {
             "outlinewidth": 0,
             "ticks": ""
            },
            "type": "mesh3d"
           }
          ],
          "parcoords": [
           {
            "line": {
             "colorbar": {
              "outlinewidth": 0,
              "ticks": ""
             }
            },
            "type": "parcoords"
           }
          ],
          "pie": [
           {
            "automargin": true,
            "type": "pie"
           }
          ],
          "scatter": [
           {
            "fillpattern": {
             "fillmode": "overlay",
             "size": 10,
             "solidity": 0.2
            },
            "type": "scatter"
           }
          ],
          "scatter3d": [
           {
            "line": {
             "colorbar": {
              "outlinewidth": 0,
              "ticks": ""
             }
            },
            "marker": {
             "colorbar": {
              "outlinewidth": 0,
              "ticks": ""
             }
            },
            "type": "scatter3d"
           }
          ],
          "scattercarpet": [
           {
            "marker": {
             "colorbar": {
              "outlinewidth": 0,
              "ticks": ""
             }
            },
            "type": "scattercarpet"
           }
          ],
          "scattergeo": [
           {
            "marker": {
             "colorbar": {
              "outlinewidth": 0,
              "ticks": ""
             }
            },
            "type": "scattergeo"
           }
          ],
          "scattergl": [
           {
            "marker": {
             "colorbar": {
              "outlinewidth": 0,
              "ticks": ""
             }
            },
            "type": "scattergl"
           }
          ],
          "scattermapbox": [
           {
            "marker": {
             "colorbar": {
              "outlinewidth": 0,
              "ticks": ""
             }
            },
            "type": "scattermapbox"
           }
          ],
          "scatterpolar": [
           {
            "marker": {
             "colorbar": {
              "outlinewidth": 0,
              "ticks": ""
             }
            },
            "type": "scatterpolar"
           }
          ],
          "scatterpolargl": [
           {
            "marker": {
             "colorbar": {
              "outlinewidth": 0,
              "ticks": ""
             }
            },
            "type": "scatterpolargl"
           }
          ],
          "scatterternary": [
           {
            "marker": {
             "colorbar": {
              "outlinewidth": 0,
              "ticks": ""
             }
            },
            "type": "scatterternary"
           }
          ],
          "surface": [
           {
            "colorbar": {
             "outlinewidth": 0,
             "ticks": ""
            },
            "colorscale": [
             [
              0,
              "#0d0887"
             ],
             [
              0.1111111111111111,
              "#46039f"
             ],
             [
              0.2222222222222222,
              "#7201a8"
             ],
             [
              0.3333333333333333,
              "#9c179e"
             ],
             [
              0.4444444444444444,
              "#bd3786"
             ],
             [
              0.5555555555555556,
              "#d8576b"
             ],
             [
              0.6666666666666666,
              "#ed7953"
             ],
             [
              0.7777777777777778,
              "#fb9f3a"
             ],
             [
              0.8888888888888888,
              "#fdca26"
             ],
             [
              1,
              "#f0f921"
             ]
            ],
            "type": "surface"
           }
          ],
          "table": [
           {
            "cells": {
             "fill": {
              "color": "#EBF0F8"
             },
             "line": {
              "color": "white"
             }
            },
            "header": {
             "fill": {
              "color": "#C8D4E3"
             },
             "line": {
              "color": "white"
             }
            },
            "type": "table"
           }
          ]
         },
         "layout": {
          "annotationdefaults": {
           "arrowcolor": "#2a3f5f",
           "arrowhead": 0,
           "arrowwidth": 1
          },
          "autotypenumbers": "strict",
          "coloraxis": {
           "colorbar": {
            "outlinewidth": 0,
            "ticks": ""
           }
          },
          "colorscale": {
           "diverging": [
            [
             0,
             "#8e0152"
            ],
            [
             0.1,
             "#c51b7d"
            ],
            [
             0.2,
             "#de77ae"
            ],
            [
             0.3,
             "#f1b6da"
            ],
            [
             0.4,
             "#fde0ef"
            ],
            [
             0.5,
             "#f7f7f7"
            ],
            [
             0.6,
             "#e6f5d0"
            ],
            [
             0.7,
             "#b8e186"
            ],
            [
             0.8,
             "#7fbc41"
            ],
            [
             0.9,
             "#4d9221"
            ],
            [
             1,
             "#276419"
            ]
           ],
           "sequential": [
            [
             0,
             "#0d0887"
            ],
            [
             0.1111111111111111,
             "#46039f"
            ],
            [
             0.2222222222222222,
             "#7201a8"
            ],
            [
             0.3333333333333333,
             "#9c179e"
            ],
            [
             0.4444444444444444,
             "#bd3786"
            ],
            [
             0.5555555555555556,
             "#d8576b"
            ],
            [
             0.6666666666666666,
             "#ed7953"
            ],
            [
             0.7777777777777778,
             "#fb9f3a"
            ],
            [
             0.8888888888888888,
             "#fdca26"
            ],
            [
             1,
             "#f0f921"
            ]
           ],
           "sequentialminus": [
            [
             0,
             "#0d0887"
            ],
            [
             0.1111111111111111,
             "#46039f"
            ],
            [
             0.2222222222222222,
             "#7201a8"
            ],
            [
             0.3333333333333333,
             "#9c179e"
            ],
            [
             0.4444444444444444,
             "#bd3786"
            ],
            [
             0.5555555555555556,
             "#d8576b"
            ],
            [
             0.6666666666666666,
             "#ed7953"
            ],
            [
             0.7777777777777778,
             "#fb9f3a"
            ],
            [
             0.8888888888888888,
             "#fdca26"
            ],
            [
             1,
             "#f0f921"
            ]
           ]
          },
          "colorway": [
           "#636efa",
           "#EF553B",
           "#00cc96",
           "#ab63fa",
           "#FFA15A",
           "#19d3f3",
           "#FF6692",
           "#B6E880",
           "#FF97FF",
           "#FECB52"
          ],
          "font": {
           "color": "#2a3f5f"
          },
          "geo": {
           "bgcolor": "white",
           "lakecolor": "white",
           "landcolor": "#E5ECF6",
           "showlakes": true,
           "showland": true,
           "subunitcolor": "white"
          },
          "hoverlabel": {
           "align": "left"
          },
          "hovermode": "closest",
          "mapbox": {
           "style": "light"
          },
          "paper_bgcolor": "white",
          "plot_bgcolor": "#E5ECF6",
          "polar": {
           "angularaxis": {
            "gridcolor": "white",
            "linecolor": "white",
            "ticks": ""
           },
           "bgcolor": "#E5ECF6",
           "radialaxis": {
            "gridcolor": "white",
            "linecolor": "white",
            "ticks": ""
           }
          },
          "scene": {
           "xaxis": {
            "backgroundcolor": "#E5ECF6",
            "gridcolor": "white",
            "gridwidth": 2,
            "linecolor": "white",
            "showbackground": true,
            "ticks": "",
            "zerolinecolor": "white"
           },
           "yaxis": {
            "backgroundcolor": "#E5ECF6",
            "gridcolor": "white",
            "gridwidth": 2,
            "linecolor": "white",
            "showbackground": true,
            "ticks": "",
            "zerolinecolor": "white"
           },
           "zaxis": {
            "backgroundcolor": "#E5ECF6",
            "gridcolor": "white",
            "gridwidth": 2,
            "linecolor": "white",
            "showbackground": true,
            "ticks": "",
            "zerolinecolor": "white"
           }
          },
          "shapedefaults": {
           "line": {
            "color": "#2a3f5f"
           }
          },
          "ternary": {
           "aaxis": {
            "gridcolor": "white",
            "linecolor": "white",
            "ticks": ""
           },
           "baxis": {
            "gridcolor": "white",
            "linecolor": "white",
            "ticks": ""
           },
           "bgcolor": "#E5ECF6",
           "caxis": {
            "gridcolor": "white",
            "linecolor": "white",
            "ticks": ""
           }
          },
          "title": {
           "x": 0.05
          },
          "xaxis": {
           "automargin": true,
           "gridcolor": "white",
           "linecolor": "white",
           "ticks": "",
           "title": {
            "standoff": 15
           },
           "zerolinecolor": "white",
           "zerolinewidth": 2
          },
          "yaxis": {
           "automargin": true,
           "gridcolor": "white",
           "linecolor": "white",
           "ticks": "",
           "title": {
            "standoff": 15
           },
           "zerolinecolor": "white",
           "zerolinewidth": 2
          }
         }
        },
        "title": {
         "text": "Gas Turbine Locations"
        }
       }
      }
     },
     "metadata": {},
     "output_type": "display_data"
    }
   ],
   "source": [
    "import plotly.express as px\n",
    "px.set_mapbox_access_token(\"pk.eyJ1IjoiYmVudGhlY29kZXIiLCJhIjoiY2wwNGNyb2ZzMGU4NjNjbnlzMXkxcmRnZiJ9.Jh6_T1hrlSoIjAD0UQG4HA\")\n",
    "fig = px.scatter_mapbox(site_df, lat=\"LATITUDE\", lon=\"LONGITUDE\", hover_name=\"CUSTOMER_NAME\", hover_data=[\"CUSTOMER_NAME\", \"PLANT_NAME\", \"LATITUDE\", \"LONGITUDE\"], height=1000, zoom=1)\n",
    "\n",
    "fig.update_layout(\n",
    "    title=\"Gas Turbine Locations\",\n",
    "    mapbox_style=\"open-street-map\",\n",
    "    margin={\"r\": 0, \"t\": 50, \"l\": 0, \"b\": 0},\n",
    ")\n",
    "\n",
    "fig.show()"
   ]
  },
  {
   "cell_type": "code",
   "execution_count": 20,
   "metadata": {},
   "outputs": [
    {
     "data": {
      "text/html": [
       "<div>\n",
       "<style scoped>\n",
       "    .dataframe tbody tr th:only-of-type {\n",
       "        vertical-align: middle;\n",
       "    }\n",
       "\n",
       "    .dataframe tbody tr th {\n",
       "        vertical-align: top;\n",
       "    }\n",
       "\n",
       "    .dataframe thead th {\n",
       "        text-align: right;\n",
       "    }\n",
       "</style>\n",
       "<table border=\"1\" class=\"dataframe\">\n",
       "  <thead>\n",
       "    <tr style=\"text-align: right;\">\n",
       "      <th></th>\n",
       "      <th>CUSTOMER_NAME</th>\n",
       "      <th>PLANT_NAME</th>\n",
       "      <th>ENGINE_ID</th>\n",
       "      <th>location_id</th>\n",
       "      <th>CMP_SPEED</th>\n",
       "      <th>POWER</th>\n",
       "      <th>FUEL_FLOW</th>\n",
       "      <th>CO2</th>\n",
       "      <th>THRM_EFF</th>\n",
       "    </tr>\n",
       "  </thead>\n",
       "  <tbody>\n",
       "    <tr>\n",
       "      <th>0</th>\n",
       "      <td>BUSY</td>\n",
       "      <td>ANCIENT-WASP</td>\n",
       "      <td>ENGINE_1</td>\n",
       "      <td>0.0</td>\n",
       "      <td>3895.495433</td>\n",
       "      <td>3840.875580</td>\n",
       "      <td>0.292981</td>\n",
       "      <td>0.734105</td>\n",
       "      <td>0.059137</td>\n",
       "    </tr>\n",
       "    <tr>\n",
       "      <th>1</th>\n",
       "      <td>BUSY</td>\n",
       "      <td>ANCIENT-WASP</td>\n",
       "      <td>ENGINE_2</td>\n",
       "      <td>0.0</td>\n",
       "      <td>4253.159140</td>\n",
       "      <td>3389.588230</td>\n",
       "      <td>0.271514</td>\n",
       "      <td>0.741710</td>\n",
       "      <td>0.058320</td>\n",
       "    </tr>\n",
       "    <tr>\n",
       "      <th>2</th>\n",
       "      <td>BUSY</td>\n",
       "      <td>ANCIENT-WASP</td>\n",
       "      <td>ENGINE_3</td>\n",
       "      <td>0.0</td>\n",
       "      <td>4014.283737</td>\n",
       "      <td>4987.613401</td>\n",
       "      <td>0.391990</td>\n",
       "      <td>0.942269</td>\n",
       "      <td>0.080981</td>\n",
       "    </tr>\n",
       "    <tr>\n",
       "      <th>3</th>\n",
       "      <td>BUSY</td>\n",
       "      <td>ANCIENT-WASP</td>\n",
       "      <td>ENGINE_4</td>\n",
       "      <td>0.0</td>\n",
       "      <td>3072.851055</td>\n",
       "      <td>1395.348163</td>\n",
       "      <td>0.095176</td>\n",
       "      <td>0.258389</td>\n",
       "      <td>0.018133</td>\n",
       "    </tr>\n",
       "    <tr>\n",
       "      <th>4</th>\n",
       "      <td>BUSY</td>\n",
       "      <td>ANCIENT-WASP</td>\n",
       "      <td>ENGINE_5</td>\n",
       "      <td>0.0</td>\n",
       "      <td>3495.267108</td>\n",
       "      <td>4153.356116</td>\n",
       "      <td>0.292559</td>\n",
       "      <td>0.712214</td>\n",
       "      <td>0.061788</td>\n",
       "    </tr>\n",
       "    <tr>\n",
       "      <th>...</th>\n",
       "      <td>...</td>\n",
       "      <td>...</td>\n",
       "      <td>...</td>\n",
       "      <td>...</td>\n",
       "      <td>...</td>\n",
       "      <td>...</td>\n",
       "      <td>...</td>\n",
       "      <td>...</td>\n",
       "      <td>...</td>\n",
       "    </tr>\n",
       "    <tr>\n",
       "      <th>208</th>\n",
       "      <td>TOUGH</td>\n",
       "      <td>VORACIOUS-PARROT</td>\n",
       "      <td>ENGINE_1</td>\n",
       "      <td>0.0</td>\n",
       "      <td>3624.643531</td>\n",
       "      <td>3348.213705</td>\n",
       "      <td>0.254994</td>\n",
       "      <td>0.600452</td>\n",
       "      <td>0.048391</td>\n",
       "    </tr>\n",
       "    <tr>\n",
       "      <th>209</th>\n",
       "      <td>TOUGH</td>\n",
       "      <td>VORACIOUS-PARROT</td>\n",
       "      <td>ENGINE_2</td>\n",
       "      <td>0.0</td>\n",
       "      <td>3318.555243</td>\n",
       "      <td>2407.182848</td>\n",
       "      <td>0.176239</td>\n",
       "      <td>0.411323</td>\n",
       "      <td>0.035043</td>\n",
       "    </tr>\n",
       "    <tr>\n",
       "      <th>210</th>\n",
       "      <td>TOUGH</td>\n",
       "      <td>VORACIOUS-PARROT</td>\n",
       "      <td>ENGINE_3</td>\n",
       "      <td>0.0</td>\n",
       "      <td>4087.459562</td>\n",
       "      <td>3109.208935</td>\n",
       "      <td>0.231212</td>\n",
       "      <td>0.629978</td>\n",
       "      <td>0.049346</td>\n",
       "    </tr>\n",
       "    <tr>\n",
       "      <th>211</th>\n",
       "      <td>TOUGH</td>\n",
       "      <td>VORACIOUS-PARROT</td>\n",
       "      <td>ENGINE_4</td>\n",
       "      <td>0.0</td>\n",
       "      <td>4492.038115</td>\n",
       "      <td>4531.430188</td>\n",
       "      <td>0.365466</td>\n",
       "      <td>0.855242</td>\n",
       "      <td>0.069967</td>\n",
       "    </tr>\n",
       "    <tr>\n",
       "      <th>212</th>\n",
       "      <td>TOUGH</td>\n",
       "      <td>VORACIOUS-PARROT</td>\n",
       "      <td>ENGINE_5</td>\n",
       "      <td>0.0</td>\n",
       "      <td>3855.622187</td>\n",
       "      <td>3910.236307</td>\n",
       "      <td>0.299561</td>\n",
       "      <td>0.780477</td>\n",
       "      <td>0.063166</td>\n",
       "    </tr>\n",
       "  </tbody>\n",
       "</table>\n",
       "<p>213 rows × 9 columns</p>\n",
       "</div>"
      ],
      "text/plain": [
       "    CUSTOMER_NAME        PLANT_NAME ENGINE_ID  location_id    CMP_SPEED  \\\n",
       "0            BUSY      ANCIENT-WASP  ENGINE_1          0.0  3895.495433   \n",
       "1            BUSY      ANCIENT-WASP  ENGINE_2          0.0  4253.159140   \n",
       "2            BUSY      ANCIENT-WASP  ENGINE_3          0.0  4014.283737   \n",
       "3            BUSY      ANCIENT-WASP  ENGINE_4          0.0  3072.851055   \n",
       "4            BUSY      ANCIENT-WASP  ENGINE_5          0.0  3495.267108   \n",
       "..            ...               ...       ...          ...          ...   \n",
       "208         TOUGH  VORACIOUS-PARROT  ENGINE_1          0.0  3624.643531   \n",
       "209         TOUGH  VORACIOUS-PARROT  ENGINE_2          0.0  3318.555243   \n",
       "210         TOUGH  VORACIOUS-PARROT  ENGINE_3          0.0  4087.459562   \n",
       "211         TOUGH  VORACIOUS-PARROT  ENGINE_4          0.0  4492.038115   \n",
       "212         TOUGH  VORACIOUS-PARROT  ENGINE_5          0.0  3855.622187   \n",
       "\n",
       "           POWER  FUEL_FLOW       CO2  THRM_EFF  \n",
       "0    3840.875580   0.292981  0.734105  0.059137  \n",
       "1    3389.588230   0.271514  0.741710  0.058320  \n",
       "2    4987.613401   0.391990  0.942269  0.080981  \n",
       "3    1395.348163   0.095176  0.258389  0.018133  \n",
       "4    4153.356116   0.292559  0.712214  0.061788  \n",
       "..           ...        ...       ...       ...  \n",
       "208  3348.213705   0.254994  0.600452  0.048391  \n",
       "209  2407.182848   0.176239  0.411323  0.035043  \n",
       "210  3109.208935   0.231212  0.629978  0.049346  \n",
       "211  4531.430188   0.365466  0.855242  0.069967  \n",
       "212  3910.236307   0.299561  0.780477  0.063166  \n",
       "\n",
       "[213 rows x 9 columns]"
      ]
     },
     "execution_count": 20,
     "metadata": {},
     "output_type": "execute_result"
    }
   ],
   "source": [
    "# group by customer name and plant name in all_df and calculate averages of each column\n",
    "all_df.groupby([\"CUSTOMER_NAME\", \"PLANT_NAME\", \"ENGINE_ID\"]).mean().reset_index()\n",
    "all_df.groupby([\"CUSTOMER_NAME\", \"PLANT_NAME\", \"ENGINE_ID\"]).std().reset_index()"
   ]
  },
  {
   "cell_type": "code",
   "execution_count": null,
   "metadata": {},
   "outputs": [],
   "source": []
  }
 ],
 "metadata": {
  "kernelspec": {
   "display_name": "Python 3.8.12 ('streamlit')",
   "language": "python",
   "name": "python3"
  },
  "language_info": {
   "codemirror_mode": {
    "name": "ipython",
    "version": 3
   },
   "file_extension": ".py",
   "mimetype": "text/x-python",
   "name": "python",
   "nbconvert_exporter": "python",
   "pygments_lexer": "ipython3",
   "version": "3.8.12"
  },
  "orig_nbformat": 4,
  "vscode": {
   "interpreter": {
    "hash": "5f214dff87efc99681f0fd859d14f7d13c4bf653b569b0b118f764f4479fa960"
   }
  }
 },
 "nbformat": 4,
 "nbformat_minor": 2
}
